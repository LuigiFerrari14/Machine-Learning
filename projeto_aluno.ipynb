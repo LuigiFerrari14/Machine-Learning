{
 "cells": [
  {
   "cell_type": "code",
   "execution_count": 25,
   "metadata": {},
   "outputs": [],
   "source": [
    "#imports\n",
    "import pandas as pd\n",
    "from sklearn.neighbors import KNeighborsClassifier\n",
    "import numpy as np\n",
    "from sklearn import metrics as mt\n",
    "import math"
   ]
  },
  {
   "cell_type": "code",
   "execution_count": 19,
   "metadata": {},
   "outputs": [],
   "source": [
    "#database\n",
    "X_test = pd.read_csv('database/Classificacao/X_test.csv')\n",
    "X_train = pd.read_csv('database/Classificacao/X_training.csv')\n",
    "X_val = pd.read_csv('database/Classificacao/X_validation.csv')\n",
    "y_test = pd.read_csv('database/Classificacao/y_test.csv')\n",
    "y_train = pd.read_csv('database/Classificacao/y_training.csv')\n",
    "y_val = pd.read_csv('database/Classificacao/y_validation.csv')"
   ]
  },
  {
   "cell_type": "code",
   "execution_count": 24,
   "metadata": {},
   "outputs": [
    {
     "data": {
      "text/plain": [
       "array([0, 1], dtype=int64)"
      ]
     },
     "execution_count": 24,
     "metadata": {},
     "output_type": "execute_result"
    }
   ],
   "source": [
    "np.unique(y_train)"
   ]
  },
  {
   "cell_type": "code",
   "execution_count": 35,
   "metadata": {},
   "outputs": [
    {
     "name": "stderr",
     "output_type": "stream",
     "text": [
      "c:\\Users\\Luigi\\anaconda3\\envs\\git\\Lib\\site-packages\\sklearn\\neighbors\\_classification.py:238: DataConversionWarning: A column-vector y was passed when a 1d array was expected. Please change the shape of y to (n_samples,), for example using ravel().\n",
      "  return self._fit(X, y)\n"
     ]
    }
   ],
   "source": [
    "#knn\n",
    "\n",
    "#n = len(X_train)\n",
    "#k_initial = int(math.sqrt(n))\n",
    "#acuraria_k = dict()\n",
    "\n",
    "#for i in range(1, 30, 3):\n",
    "model = KNeighborsClassifier(n_neighbors=7)\n",
    "model.fit(X_train, y_train)\n",
    "pred_train = model.predict(X_train)\n",
    "pred_val = model.predict(X_val)\n",
    "pred_test = model.predict(X_test)\n",
    "#acuraria_k[i] = acuracia_teste \n"
   ]
  },
  {
   "cell_type": "code",
   "execution_count": 34,
   "metadata": {},
   "outputs": [
    {
     "data": {
      "text/plain": [
       "{1: 0.678368671069401,\n",
       " 4: 0.662263932336925,\n",
       " 7: 0.6677480400108138,\n",
       " 10: 0.6625728961495385,\n",
       " 13: 0.6573591318116866,\n",
       " 16: 0.6514501988954544,\n",
       " 19: 0.6456957478855289,\n",
       " 22: 0.6429923145251613,\n",
       " 25: 0.6382033754296528,\n",
       " 28: 0.6344571892017148}"
      ]
     },
     "execution_count": 34,
     "metadata": {},
     "output_type": "execute_result"
    }
   ],
   "source": [
    "#acuraria_k"
   ]
  },
  {
   "cell_type": "code",
   "execution_count": 43,
   "metadata": {},
   "outputs": [
    {
     "name": "stdout",
     "output_type": "stream",
     "text": [
      "0.7563124870716403 0.6669777019852634 0.6677480400108138\n"
     ]
    }
   ],
   "source": [
    "#metrics \n",
    "#accuracy train\n",
    "at = mt.accuracy_score(y_train, pred_train)\n",
    "#accuracy val\n",
    "av = mt.accuracy_score(y_val, pred_val)\n",
    "#accuracy test\n",
    "ate = mt.accuracy_score(y_test, pred_test)\n",
    "\n",
    "print(at, av, ate)"
   ]
  },
  {
   "cell_type": "code",
   "execution_count": 44,
   "metadata": {},
   "outputs": [
    {
     "name": "stdout",
     "output_type": "stream",
     "text": [
      "0.731248949403261 0.6227083169407507 0.6302830188679245\n"
     ]
    }
   ],
   "source": [
    "#precision train\n",
    "pt = mt.precision_score(y_train, pred_train)\n",
    "#precision val\n",
    "pv = mt.precision_score(y_val, pred_val)\n",
    "#precision test\n",
    "pte = mt.precision_score(y_test, pred_test)\n",
    "\n",
    "print(pt, pv, pte)"
   ]
  },
  {
   "cell_type": "code",
   "execution_count": 45,
   "metadata": {},
   "outputs": [
    {
     "name": "stdout",
     "output_type": "stream",
     "text": [
      "0.6920898561792033 0.5875714603905264 0.5878574571051474\n"
     ]
    }
   ],
   "source": [
    "#recall train\n",
    "rt = mt.recall_score(y_train, pred_train)\n",
    "#recall val\n",
    "rv = mt.recall_score(y_val, pred_val)\n",
    "#recall test\n",
    "rte = mt.recall_score(y_test, pred_test)\n",
    "\n",
    "print(rt, rv, rte)"
   ]
  },
  {
   "cell_type": "code",
   "execution_count": 46,
   "metadata": {},
   "outputs": [
    {
     "name": "stdout",
     "output_type": "stream",
     "text": [
      "0.7111307276085855 0.6046298418519367 0.6083314363760528\n"
     ]
    }
   ],
   "source": [
    "#f1 train\n",
    "ft = mt.f1_score(y_train, pred_train)\n",
    "#f1 val\n",
    "fv = mt.f1_score(y_val, pred_val)\n",
    "#f1 test\n",
    "fte = mt.f1_score(y_test, pred_test)\n",
    "\n",
    "print(ft, fv, fte)"
   ]
  },
  {
   "cell_type": "markdown",
   "metadata": {},
   "source": [
    "# Decision Tree"
   ]
  },
  {
   "cell_type": "code",
   "execution_count": 47,
   "metadata": {},
   "outputs": [],
   "source": [
    "from sklearn import tree as tr"
   ]
  },
  {
   "cell_type": "code",
   "execution_count": 54,
   "metadata": {},
   "outputs": [],
   "source": [
    "model_tree = tr.DecisionTreeClassifier()\n",
    "model_tree.fit(X_train, y_train)\n",
    "pred_train = model_tree.predict(X_train)\n",
    "pred_val = model_tree.predict(X_val)\n",
    "pred_test = model_tree.predict(X_test)"
   ]
  },
  {
   "cell_type": "code",
   "execution_count": 55,
   "metadata": {},
   "outputs": [
    {
     "data": {
      "text/plain": [
       "(1.0, 0.9445928118665337, 0.9443865137295794)"
      ]
     },
     "execution_count": 55,
     "metadata": {},
     "output_type": "execute_result"
    }
   ],
   "source": [
    "#accuracy train\n",
    "at = mt.accuracy_score(y_train, pred_train)\n",
    "#accuracy val\n",
    "ac = mt.accuracy_score(y_val, pred_val)\n",
    "#accuracy test\n",
    "tc = mt.accuracy_score(y_test, pred_test)\n",
    "\n",
    "at, ac, tc\n"
   ]
  },
  {
   "cell_type": "code",
   "execution_count": null,
   "metadata": {},
   "outputs": [],
   "source": []
  }
 ],
 "metadata": {
  "kernelspec": {
   "display_name": "git",
   "language": "python",
   "name": "python3"
  },
  "language_info": {
   "codemirror_mode": {
    "name": "ipython",
    "version": 3
   },
   "file_extension": ".py",
   "mimetype": "text/x-python",
   "name": "python",
   "nbconvert_exporter": "python",
   "pygments_lexer": "ipython3",
   "version": "3.12.7"
  }
 },
 "nbformat": 4,
 "nbformat_minor": 2
}
